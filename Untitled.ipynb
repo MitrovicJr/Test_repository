{
 "cells": [
  {
   "cell_type": "code",
   "execution_count": 1,
   "id": "e6a0a145",
   "metadata": {},
   "outputs": [
    {
     "data": {
      "text/plain": [
       "'hello world'"
      ]
     },
     "execution_count": 1,
     "metadata": {},
     "output_type": "execute_result"
    }
   ],
   "source": [
    "'hello world'"
   ]
  },
  {
   "cell_type": "code",
   "execution_count": 2,
   "id": "cf5ae80f",
   "metadata": {},
   "outputs": [],
   "source": [
    "name = 'bivariate'"
   ]
  },
  {
   "cell_type": "code",
   "execution_count": 3,
   "id": "3ab8b1ac",
   "metadata": {},
   "outputs": [
    {
     "data": {
      "text/plain": [
       "'bivariate'"
      ]
     },
     "execution_count": 3,
     "metadata": {},
     "output_type": "execute_result"
    }
   ],
   "source": [
    "name"
   ]
  },
  {
   "cell_type": "code",
   "execution_count": null,
   "id": "78c0d468",
   "metadata": {},
   "outputs": [],
   "source": []
  }
 ],
 "metadata": {
  "kernelspec": {
   "display_name": "Python 3 (ipykernel)",
   "language": "python",
   "name": "python3"
  },
  "language_info": {
   "codemirror_mode": {
    "name": "ipython",
    "version": 3
   },
   "file_extension": ".py",
   "mimetype": "text/x-python",
   "name": "python",
   "nbconvert_exporter": "python",
   "pygments_lexer": "ipython3",
   "version": "3.11.4"
  }
 },
 "nbformat": 4,
 "nbformat_minor": 5
}
